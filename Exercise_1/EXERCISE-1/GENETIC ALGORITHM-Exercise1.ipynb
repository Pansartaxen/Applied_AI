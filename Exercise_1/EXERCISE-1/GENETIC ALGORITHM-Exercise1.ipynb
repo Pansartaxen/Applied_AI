{
 "cells": [
  {
   "cell_type": "code",
   "execution_count": 48,
   "metadata": {},
   "outputs": [],
   "source": [
    "import random\n",
    "from matplotlib import pyplot as plt\n",
    "\n",
    "POPUL = [20, 50, 100]\n",
    "\n",
    "Gen_Mat = '''ABCDEFGHIJKLMNOPQRSTUVWXYZa¨bcdefghijklmnopqrstuvwxyz 1234567890, .-;:_!\"#%&/()=?@${[]}'''\n",
    "  \n",
    "TARGET = \"BLEKINGE INSTITUTE OF TECHNOLOGY\""
   ]
  },
  {
   "cell_type": "code",
   "execution_count": 49,
   "metadata": {},
   "outputs": [],
   "source": [
    "class Individual:\n",
    "    \n",
    "    def __init__(self, chromosome): \n",
    "        self.chromosome = chromosome  \n",
    "        self.fitness = self.cal_fitness() \n",
    "  \n",
    "    @classmethod\n",
    "    def mutated_genes(self): \n",
    "        gene = random.choice(Gen_Mat) \n",
    "        return gene \n",
    "  \n",
    "    @classmethod\n",
    "    def create_genome(self): \n",
    "        genome_len = len(TARGET) \n",
    "        return [self.mutated_genes() for _ in range(genome_len)] \n",
    "  \n",
    "    def mate(self, par2): \n",
    "        child_chromosome = [] \n",
    "        for gp1, gp2 in zip(self.chromosome, par2.chromosome):     \n",
    "  \n",
    "            prob = random.random() \n",
    "  \n",
    "            if prob < 0.45: \n",
    "                child_chromosome.append(gp1) \n",
    "  \n",
    "            elif prob < 0.90: \n",
    "                child_chromosome.append(gp2) \n",
    "  \n",
    "            else: \n",
    "                child_chromosome.append(self.mutated_genes()) \n",
    "  \n",
    "        return Individual(child_chromosome) \n",
    "  \n",
    "    def cal_fitness(self):\n",
    "        fitness = 0\n",
    "        for gs, gt in zip(self.chromosome, TARGET): \n",
    "            if gs != gt:\n",
    "                fitness+= 1\n",
    "        return fitness "
   ]
  },
  {
   "cell_type": "code",
   "execution_count": 52,
   "metadata": {},
   "outputs": [],
   "source": [
    "def main(POPUL_Size):\n",
    "    gen_list = []\n",
    "    fit_list = []\n",
    "    generation = 1\n",
    "  \n",
    "    found = False\n",
    "    population = [] \n",
    "  \n",
    "    for _ in range(POPUL_Size): \n",
    "                genome = Individual.create_genome() \n",
    "                population.append(Individual(genome)) \n",
    "  \n",
    "    while not found: \n",
    "  \n",
    "        population = sorted(population, key = lambda x:x.fitness) \n",
    "  \n",
    "        if population[0].fitness <= 0: \n",
    "            found = True\n",
    "            break\n",
    "  \n",
    "        new_generation = [] \n",
    "  \n",
    "        s = int((10*POPUL_Size)/100)\n",
    "        new_generation.extend(population[:s]) \n",
    "   \n",
    "        s = int((90*POPUL_Size)/100) \n",
    "        for _ in range(s): \n",
    "            parent1 = random.choice(population[:50]) \n",
    "            parent2 = random.choice(population[:50]) \n",
    "            child = parent1.mate(parent2) \n",
    "            new_generation.append(child) \n",
    "  \n",
    "        population = new_generation \n",
    "  \n",
    "        #print(\"Gen: {}\\tSolution: {}\\tFitness Score: {}\".\n",
    "        #      format(generation, \n",
    "        #      \"\".join(population[0].chromosome), \n",
    "        #      population[0].fitness))\n",
    "    \n",
    "        #plt.plot(generation, int(population[0].fitness))\n",
    "        gen_list.append(generation)\n",
    "        fit_list.append(population[0].fitness)\n",
    "        \n",
    "  \n",
    "        generation += 1\n",
    "  \n",
    "      \n",
    "    #print(\"Gen: {}\\tSolution: {}\\tFitness Score: {}\".\n",
    "    #      format(generation, \n",
    "    #      \"\".join(population[0].chromosome), \n",
    "    #      population[0].fitness))\n",
    "    #plt.plot(generation, population[0].cal_fitness())\n",
    "    gen_list.append(generation)\n",
    "    fit_list.append(population[0].fitness)\n",
    "    plt.plot(gen_list, fit_list, label = POPUL_Size)\n",
    "    \n",
    "    plt.xlabel('Generation')\n",
    "    plt.ylabel('Fitness')\n",
    "    plt.legend()"
   ]
  },
  {
   "cell_type": "code",
   "execution_count": 53,
   "metadata": {
    "scrolled": false
   },
   "outputs": [
    {
     "data": {
      "image/png": "[encoded data removed]",
      "text/plain": [
       "<Figure size 1080x504 with 1 Axes>"
      ]
     },
     "metadata": {
      "needs_background": "light"
     },
     "output_type": "display_data"
    }
   ],
   "source": [
    "plt.figure(figsize=(15,7))\n",
    "for pop in POPUL:\n",
    "    main(pop)\n",
    "plt.show()"
   ]
  },
  {
   "cell_type": "markdown",
   "metadata": {},
   "source": [
    "## EXERCISES\n",
    "\n",
    "### Exercise 1\n",
    "Plot the Fitness Scores in a figure by updating the population size with\n",
    " 1) 10\n",
    " 2) 50\n",
    " 3) 100\n",
    "\n",
    "### Exercise 2\n",
    "NEW TARGET = \"God kväll, Hej då / Adjö, Tack (så mycket), Välkommen\"\n",
    "\n",
    "### Exercise 3\n",
    "NEW TARGET = Your name, surname and birth place\n",
    "\n",
    "### Discuss how Genetic Algorithm obtains the target sentence"
   ]
  },
  {
   "cell_type": "markdown",
   "metadata": {},
   "source": [
    "Hint for Exercise 2: To find the target, you must update the Gen_Mat in the implementation "
   ]
  }
 ],
 "metadata": {
  "kernelspec": {
   "display_name": "Python 3 (ipykernel)",
   "language": "python",
   "name": "python3"
  },
  "language_info": {
   "codemirror_mode": {
    "name": "ipython",
    "version": 3
   },
   "file_extension": ".py",
   "mimetype": "text/x-python",
   "name": "python",
   "nbconvert_exporter": "python",
   "pygments_lexer": "ipython3",
   "version": "3.9.7"
  },
  "vscode": {
   "interpreter": {
    "hash": "11938c6bc6919ae2720b4d5011047913343b08a43b18698fd82dedb0d4417594"
   }
  }
 },
 "nbformat": 4,
 "nbformat_minor": 2
}
