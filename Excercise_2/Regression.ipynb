{
 "cells": [
  {
   "cell_type": "markdown",
   "metadata": {},
   "source": [
    "# Linear regression\n",
    "\n",
    "In this exercise, we will find out effect of advertisements on sales.\n",
    "\n",
    "In this excercise, we will use three different advertisement approaches: TV, Radio and newspaper.\n",
    "\n",
    "For this we will apply Univariate Linear Regression"
   ]
  },
  {
   "cell_type": "markdown",
   "metadata": {},
   "source": [
    "### Imports"
   ]
  },
  {
   "cell_type": "code",
   "execution_count": 51,
   "metadata": {},
   "outputs": [],
   "source": [
    "import pandas as pd\n",
    "import numpy as np\n",
    "import matplotlib.pyplot as plt\n",
    "from sklearn.linear_model import LinearRegression"
   ]
  },
  {
   "cell_type": "markdown",
   "metadata": {},
   "source": [
    "### Read data and display top rows"
   ]
  },
  {
   "cell_type": "code",
   "execution_count": 52,
   "metadata": {},
   "outputs": [
    {
     "data": {
      "text/html": [
       "<div>\n",
       "<style scoped>\n",
       "    .dataframe tbody tr th:only-of-type {\n",
       "        vertical-align: middle;\n",
       "    }\n",
       "\n",
       "    .dataframe tbody tr th {\n",
       "        vertical-align: top;\n",
       "    }\n",
       "\n",
       "    .dataframe thead th {\n",
       "        text-align: right;\n",
       "    }\n",
       "</style>\n",
       "<table border=\"1\" class=\"dataframe\">\n",
       "  <thead>\n",
       "    <tr style=\"text-align: right;\">\n",
       "      <th></th>\n",
       "      <th>Unnamed: 0</th>\n",
       "      <th>TV</th>\n",
       "      <th>radio</th>\n",
       "      <th>newspaper</th>\n",
       "      <th>sales</th>\n",
       "    </tr>\n",
       "  </thead>\n",
       "  <tbody>\n",
       "    <tr>\n",
       "      <th>0</th>\n",
       "      <td>1</td>\n",
       "      <td>230.1</td>\n",
       "      <td>37.8</td>\n",
       "      <td>69.2</td>\n",
       "      <td>22.1</td>\n",
       "    </tr>\n",
       "    <tr>\n",
       "      <th>1</th>\n",
       "      <td>2</td>\n",
       "      <td>44.5</td>\n",
       "      <td>39.3</td>\n",
       "      <td>45.1</td>\n",
       "      <td>10.4</td>\n",
       "    </tr>\n",
       "    <tr>\n",
       "      <th>2</th>\n",
       "      <td>3</td>\n",
       "      <td>17.2</td>\n",
       "      <td>45.9</td>\n",
       "      <td>69.3</td>\n",
       "      <td>9.3</td>\n",
       "    </tr>\n",
       "    <tr>\n",
       "      <th>3</th>\n",
       "      <td>4</td>\n",
       "      <td>151.5</td>\n",
       "      <td>41.3</td>\n",
       "      <td>58.5</td>\n",
       "      <td>18.5</td>\n",
       "    </tr>\n",
       "    <tr>\n",
       "      <th>4</th>\n",
       "      <td>5</td>\n",
       "      <td>180.8</td>\n",
       "      <td>10.8</td>\n",
       "      <td>58.4</td>\n",
       "      <td>12.9</td>\n",
       "    </tr>\n",
       "  </tbody>\n",
       "</table>\n",
       "</div>"
      ],
      "text/plain": [
       "   Unnamed: 0     TV  radio  newspaper  sales\n",
       "0           1  230.1   37.8       69.2   22.1\n",
       "1           2   44.5   39.3       45.1   10.4\n",
       "2           3   17.2   45.9       69.3    9.3\n",
       "3           4  151.5   41.3       58.5   18.5\n",
       "4           5  180.8   10.8       58.4   12.9"
      ]
     },
     "execution_count": 52,
     "metadata": {},
     "output_type": "execute_result"
    }
   ],
   "source": [
    "data = pd.read_csv(\"Advertising.csv\")\n",
    "data.head()"
   ]
  },
  {
   "cell_type": "markdown",
   "metadata": {},
   "source": [
    "### Remove extra column"
   ]
  },
  {
   "cell_type": "code",
   "execution_count": 53,
   "metadata": {
    "scrolled": true
   },
   "outputs": [
    {
     "data": {
      "text/html": [
       "<div>\n",
       "<style scoped>\n",
       "    .dataframe tbody tr th:only-of-type {\n",
       "        vertical-align: middle;\n",
       "    }\n",
       "\n",
       "    .dataframe tbody tr th {\n",
       "        vertical-align: top;\n",
       "    }\n",
       "\n",
       "    .dataframe thead th {\n",
       "        text-align: right;\n",
       "    }\n",
       "</style>\n",
       "<table border=\"1\" class=\"dataframe\">\n",
       "  <thead>\n",
       "    <tr style=\"text-align: right;\">\n",
       "      <th></th>\n",
       "      <th>TV</th>\n",
       "      <th>radio</th>\n",
       "      <th>newspaper</th>\n",
       "      <th>sales</th>\n",
       "    </tr>\n",
       "  </thead>\n",
       "  <tbody>\n",
       "    <tr>\n",
       "      <th>0</th>\n",
       "      <td>230.1</td>\n",
       "      <td>37.8</td>\n",
       "      <td>69.2</td>\n",
       "      <td>22.1</td>\n",
       "    </tr>\n",
       "    <tr>\n",
       "      <th>1</th>\n",
       "      <td>44.5</td>\n",
       "      <td>39.3</td>\n",
       "      <td>45.1</td>\n",
       "      <td>10.4</td>\n",
       "    </tr>\n",
       "    <tr>\n",
       "      <th>2</th>\n",
       "      <td>17.2</td>\n",
       "      <td>45.9</td>\n",
       "      <td>69.3</td>\n",
       "      <td>9.3</td>\n",
       "    </tr>\n",
       "    <tr>\n",
       "      <th>3</th>\n",
       "      <td>151.5</td>\n",
       "      <td>41.3</td>\n",
       "      <td>58.5</td>\n",
       "      <td>18.5</td>\n",
       "    </tr>\n",
       "    <tr>\n",
       "      <th>4</th>\n",
       "      <td>180.8</td>\n",
       "      <td>10.8</td>\n",
       "      <td>58.4</td>\n",
       "      <td>12.9</td>\n",
       "    </tr>\n",
       "    <tr>\n",
       "      <th>...</th>\n",
       "      <td>...</td>\n",
       "      <td>...</td>\n",
       "      <td>...</td>\n",
       "      <td>...</td>\n",
       "    </tr>\n",
       "    <tr>\n",
       "      <th>195</th>\n",
       "      <td>38.2</td>\n",
       "      <td>3.7</td>\n",
       "      <td>13.8</td>\n",
       "      <td>7.6</td>\n",
       "    </tr>\n",
       "    <tr>\n",
       "      <th>196</th>\n",
       "      <td>94.2</td>\n",
       "      <td>4.9</td>\n",
       "      <td>8.1</td>\n",
       "      <td>9.7</td>\n",
       "    </tr>\n",
       "    <tr>\n",
       "      <th>197</th>\n",
       "      <td>177.0</td>\n",
       "      <td>9.3</td>\n",
       "      <td>6.4</td>\n",
       "      <td>12.8</td>\n",
       "    </tr>\n",
       "    <tr>\n",
       "      <th>198</th>\n",
       "      <td>283.6</td>\n",
       "      <td>42.0</td>\n",
       "      <td>66.2</td>\n",
       "      <td>25.5</td>\n",
       "    </tr>\n",
       "    <tr>\n",
       "      <th>199</th>\n",
       "      <td>232.1</td>\n",
       "      <td>8.6</td>\n",
       "      <td>8.7</td>\n",
       "      <td>13.4</td>\n",
       "    </tr>\n",
       "  </tbody>\n",
       "</table>\n",
       "<p>200 rows × 4 columns</p>\n",
       "</div>"
      ],
      "text/plain": [
       "        TV  radio  newspaper  sales\n",
       "0    230.1   37.8       69.2   22.1\n",
       "1     44.5   39.3       45.1   10.4\n",
       "2     17.2   45.9       69.3    9.3\n",
       "3    151.5   41.3       58.5   18.5\n",
       "4    180.8   10.8       58.4   12.9\n",
       "..     ...    ...        ...    ...\n",
       "195   38.2    3.7       13.8    7.6\n",
       "196   94.2    4.9        8.1    9.7\n",
       "197  177.0    9.3        6.4   12.8\n",
       "198  283.6   42.0       66.2   25.5\n",
       "199  232.1    8.6        8.7   13.4\n",
       "\n",
       "[200 rows x 4 columns]"
      ]
     },
     "execution_count": 53,
     "metadata": {},
     "output_type": "execute_result"
    }
   ],
   "source": [
    "data.drop(['Unnamed: 0'], axis=1)"
   ]
  },
  {
   "cell_type": "markdown",
   "metadata": {},
   "source": [
    "## Simple linear regression "
   ]
  },
  {
   "cell_type": "markdown",
   "metadata": {},
   "source": [
    "### Plot TV vs Sales data"
   ]
  },
  {
   "cell_type": "code",
   "execution_count": 54,
   "metadata": {},
   "outputs": [
    {
     "data": {
      "image/png": "[encoded data removed]",
      "text/plain": [
       "<Figure size 1600x800 with 1 Axes>"
      ]
     },
     "metadata": {},
     "output_type": "display_data"
    }
   ],
   "source": [
    "plt.figure(figsize=(16, 8))\n",
    "plt.scatter(\n",
    "    data['radio'],\n",
    "    data['sales'],\n",
    "    c='black'\n",
    ")\n",
    "plt.xlabel(\"Money spent on TV ads ($)\")\n",
    "plt.ylabel(\"Sales ($)\")\n",
    "plt.show()"
   ]
  },
  {
   "cell_type": "markdown",
   "metadata": {},
   "source": [
    "### Perform linear regression"
   ]
  },
  {
   "cell_type": "code",
   "execution_count": 55,
   "metadata": {},
   "outputs": [
    {
     "name": "stdout",
     "output_type": "stream",
     "text": [
      "0.20249578339243965\n",
      "9.311638095158283\n",
      "The linear model is: Y = 9.3116 + 0.2025X\n"
     ]
    }
   ],
   "source": [
    "X = data['radio'].values.reshape(-1,1)\n",
    "y = data['sales'].values.reshape(-1,1)\n",
    "\n",
    "reg = LinearRegression()\n",
    "reg.fit(X, y)\n",
    "\n",
    "# Print results\n",
    "print(reg.coef_[0][0])\n",
    "print(reg.intercept_[0])\n",
    "\n",
    "print(\"The linear model is: Y = {:.5} + {:.5}X\".format(reg.intercept_[0], reg.coef_[0][0]))"
   ]
  },
  {
   "cell_type": "markdown",
   "metadata": {},
   "source": [
    "### Plot regression line"
   ]
  },
  {
   "cell_type": "code",
   "execution_count": 56,
   "metadata": {},
   "outputs": [
    {
     "data": {
      "image/png": "[encoded data removed]",
      "text/plain": [
       "<Figure size 1600x800 with 1 Axes>"
      ]
     },
     "metadata": {},
     "output_type": "display_data"
    }
   ],
   "source": [
    "predictions = reg.predict(X)\n",
    "\n",
    "plt.figure(figsize=(16, 8))\n",
    "plt.scatter(\n",
    "    data['radio'],\n",
    "    data['sales'],\n",
    "    c='black'\n",
    ")\n",
    "plt.plot(\n",
    "    data['radio'],\n",
    "    predictions,\n",
    "    c='blue',\n",
    "    linewidth=2\n",
    ")\n",
    "plt.xlabel(\"Money spent on TV ads ($)\")\n",
    "plt.ylabel(\"Sales ($)\")\n",
    "plt.show()"
   ]
  },
  {
   "cell_type": "code",
   "execution_count": 62,
   "metadata": {},
   "outputs": [
    {
     "name": "stdout",
     "output_type": "stream",
     "text": [
      "0.011864500000228873\n"
     ]
    }
   ],
   "source": [
    "predicted = 0\n",
    "real = 0\n",
    "for i in range(data.shape[0]):\n",
    "    #Y = 2.9389 + 0.045765*TV + 0.18853*radio + -0.0010375*newspaper\n",
    "    predicted += abs(7.0326 + 0.047537*data['TV'][i])\n",
    "    real += abs(data['sales'][i])\n",
    "print(predicted - real)"
   ]
  },
  {
   "cell_type": "markdown",
   "metadata": {},
   "source": [
    "# Exercise\n",
    "\n",
    "1) What is the error when the advertisment for TV is 286.0?\n",
    "\n",
    "2) Find the total Error between Regression Line and data points.\n",
    "\n",
    "3) What is Linear Regression Model for sales if we instead consider radio? What is the error when the advertisment for radio is 13.9? Find the total Error between Regression Line and data points?\n",
    "\n",
    "4) What is Linear Regression Model for sales if we consider Newspapers? What is the error when the advertisment for newspaper is 3.7? Find the total Error between Regression Line and data points?\n",
    "\n",
    "5) Discuss the results."
   ]
  },
  {
   "cell_type": "markdown",
   "metadata": {},
   "source": [
    "## Multivariate linear regression "
   ]
  },
  {
   "cell_type": "markdown",
   "metadata": {},
   "source": [
    "### Split data into inputs and labels"
   ]
  },
  {
   "cell_type": "code",
   "execution_count": 58,
   "metadata": {},
   "outputs": [],
   "source": [
    "Xs = data.drop(['sales', 'Unnamed: 0'], axis=1)\n",
    "y = data['sales'].values.reshape(-1,1)"
   ]
  },
  {
   "cell_type": "markdown",
   "metadata": {},
   "source": [
    "### Perform linear regression"
   ]
  },
  {
   "cell_type": "code",
   "execution_count": 59,
   "metadata": {},
   "outputs": [
    {
     "name": "stdout",
     "output_type": "stream",
     "text": [
      "[[ 0.04576465  0.18853002 -0.00103749]]\n",
      "[2.93888937]\n",
      "The linear model is: Y = 2.9389 + 0.045765*TV + 0.18853*radio + -0.0010375*newspaper\n"
     ]
    }
   ],
   "source": [
    "reg = LinearRegression()\n",
    "reg.fit(Xs, y)\n",
    "print(reg.coef_)\n",
    "print(reg.intercept_)\n",
    "print(\"The linear model is: Y = {:.5} + {:.5}*TV + {:.5}*radio + {:.5}*newspaper\".format(reg.intercept_[0], reg.coef_[0][0], reg.coef_[0][1], reg.coef_[0][2]))"
   ]
  },
  {
   "cell_type": "markdown",
   "metadata": {},
   "source": [
    "### Evaluate the model\n",
    "#### Calculate the $R^2$ value"
   ]
  },
  {
   "cell_type": "code",
   "execution_count": 60,
   "metadata": {},
   "outputs": [
    {
     "data": {
      "text/plain": [
       "0.8972106381789522"
      ]
     },
     "execution_count": 60,
     "metadata": {},
     "output_type": "execute_result"
    }
   ],
   "source": [
    "reg.score(Xs, y)"
   ]
  },
  {
   "cell_type": "markdown",
   "metadata": {},
   "source": [
    "### Calculate the error for each datapoint"
   ]
  },
  {
   "cell_type": "code",
   "execution_count": 61,
   "metadata": {},
   "outputs": [
    {
     "name": "stdout",
     "output_type": "stream",
     "text": [
      "Actual Predicted Error\n",
      "22.100\t20.524\t1.576\n",
      "10.400\t12.338\t1.938\n",
      "9.300\t12.308\t3.008\n",
      "18.500\t17.598\t0.902\n",
      "12.900\t13.189\t0.289\n",
      "7.200\t12.478\t5.278\n",
      "11.800\t11.730\t0.070\n",
      "13.200\t12.123\t1.077\n",
      "4.800\t3.727\t1.073\n",
      "10.600\t12.551\t1.951\n",
      "8.600\t7.032\t1.568\n",
      "17.400\t17.285\t0.115\n",
      "9.200\t10.577\t1.377\n",
      "9.700\t8.826\t0.874\n",
      "19.000\t18.434\t0.566\n",
      "22.400\t20.819\t1.581\n",
      "12.500\t12.824\t0.324\n",
      "24.400\t23.225\t1.175\n",
      "11.300\t9.952\t1.348\n",
      "14.600\t14.166\t0.434\n",
      "18.000\t18.101\t0.101\n",
      "12.500\t14.741\t2.241\n",
      "5.600\t6.489\t0.889\n",
      "15.500\t16.546\t1.046\n",
      "9.700\t8.147\t1.553\n",
      "12.000\t15.610\t3.610\n",
      "15.000\t14.990\t0.010\n",
      "15.900\t17.052\t1.152\n",
      "18.900\t19.411\t0.511\n",
      "10.500\t9.144\t1.356\n",
      "21.400\t21.634\t0.234\n",
      "11.900\t11.346\t0.554\n",
      "9.600\t7.639\t1.961\n",
      "17.400\t18.864\t1.464\n",
      "9.500\t7.575\t1.925\n",
      "12.800\t17.007\t4.207\n",
      "25.400\t23.406\t1.994\n",
      "14.700\t15.623\t0.923\n",
      "10.100\t9.909\t0.191\n",
      "21.500\t20.448\t1.052\n",
      "16.600\t16.378\t0.222\n",
      "17.100\t17.296\t0.196\n",
      "20.700\t21.596\t0.896\n",
      "12.900\t13.964\t1.064\n",
      "8.500\t8.888\t0.388\n",
      "14.900\t15.162\t0.262\n",
      "10.600\t8.873\t1.727\n",
      "23.200\t21.723\t1.477\n",
      "14.800\t16.264\t1.464\n",
      "9.700\t8.168\t1.532\n",
      "11.400\t12.631\t1.231\n",
      "10.700\t9.340\t1.360\n",
      "22.600\t20.663\t1.937\n",
      "21.200\t19.945\t1.255\n",
      "20.200\t20.374\t0.174\n",
      "23.700\t21.293\t2.407\n",
      "5.500\t8.528\t3.028\n",
      "13.200\t12.775\t0.425\n",
      "23.800\t21.898\t1.902\n",
      "18.400\t18.133\t0.267\n",
      "8.100\t5.742\t2.358\n",
      "24.200\t22.891\t1.309\n",
      "15.700\t16.784\t1.084\n",
      "14.000\t13.211\t0.789\n",
      "18.000\t16.978\t1.022\n",
      "9.300\t7.849\t1.451\n",
      "9.500\t9.016\t0.484\n",
      "13.400\t12.037\t1.363\n",
      "18.900\t18.977\t0.077\n",
      "22.300\t21.109\t1.191\n",
      "18.300\t17.779\t0.521\n",
      "12.400\t10.627\t1.773\n",
      "8.800\t10.367\t1.567\n",
      "11.000\t9.903\t1.097\n",
      "17.000\t17.329\t0.329\n",
      "8.700\t11.858\t3.158\n",
      "6.900\t4.478\t2.422\n",
      "14.200\t13.812\t0.388\n",
      "5.300\t8.813\t3.513\n",
      "11.000\t9.675\t1.325\n",
      "11.800\t11.446\t0.354\n",
      "12.300\t14.648\t2.348\n",
      "11.300\t10.178\t1.122\n",
      "13.600\t14.422\t0.822\n",
      "21.700\t20.781\t0.919\n",
      "15.200\t15.181\t0.019\n",
      "12.000\t11.599\t0.401\n",
      "16.000\t15.594\t0.406\n",
      "12.900\t11.711\t1.189\n",
      "16.700\t16.922\t0.222\n",
      "11.200\t9.999\t1.201\n",
      "7.300\t4.496\t2.804\n",
      "19.400\t19.156\t0.244\n",
      "22.200\t21.228\t0.972\n",
      "11.500\t10.482\t1.018\n",
      "16.900\t16.315\t0.585\n",
      "11.700\t12.636\t0.936\n",
      "15.500\t15.337\t0.163\n",
      "25.400\t24.119\t1.281\n",
      "17.200\t16.940\t0.260\n",
      "11.700\t13.876\t2.176\n",
      "23.800\t23.242\t0.558\n",
      "14.800\t17.644\t2.844\n",
      "14.700\t14.762\t0.062\n",
      "20.700\t20.301\t0.399\n",
      "19.200\t17.936\t1.264\n",
      "7.200\t6.126\t1.074\n",
      "8.700\t7.109\t1.591\n",
      "5.300\t3.587\t1.713\n",
      "19.800\t19.693\t0.107\n",
      "13.400\t14.760\t1.360\n",
      "21.800\t21.140\t0.660\n",
      "14.100\t13.881\t0.219\n",
      "15.900\t16.404\t0.504\n",
      "14.600\t15.305\t0.705\n",
      "12.600\t12.920\t0.320\n",
      "12.200\t11.979\t0.221\n",
      "9.400\t6.571\t2.829\n",
      "15.900\t15.566\t0.334\n",
      "6.600\t6.820\t0.220\n",
      "15.500\t14.410\t1.090\n",
      "7.000\t7.838\t0.838\n",
      "11.600\t13.626\t2.026\n",
      "15.200\t15.083\t0.117\n",
      "19.700\t19.454\t0.246\n",
      "10.600\t9.127\t1.473\n",
      "6.600\t10.577\t3.977\n",
      "8.800\t6.600\t2.200\n",
      "24.700\t22.255\t2.445\n",
      "9.700\t7.884\t1.816\n",
      "1.600\t10.428\t8.828\n",
      "12.700\t15.578\t2.878\n",
      "5.700\t8.449\t2.749\n",
      "19.600\t19.267\t0.333\n",
      "10.800\t11.837\t1.037\n",
      "11.600\t14.001\t2.401\n",
      "9.500\t11.453\t1.953\n",
      "20.800\t20.851\t0.051\n",
      "9.600\t9.768\t0.168\n",
      "20.700\t19.675\t1.025\n",
      "10.900\t9.490\t1.410\n",
      "19.200\t18.399\t0.801\n",
      "20.100\t19.250\t0.850\n",
      "10.400\t8.765\t1.635\n",
      "11.400\t10.091\t1.309\n",
      "10.300\t9.709\t0.591\n",
      "13.200\t15.294\t2.094\n",
      "25.400\t23.261\t2.139\n",
      "10.900\t12.263\t1.363\n",
      "10.100\t9.827\t0.273\n",
      "16.100\t18.367\t2.267\n",
      "11.600\t10.010\t1.590\n",
      "16.600\t16.360\t0.240\n",
      "19.000\t18.224\t0.776\n",
      "15.600\t15.502\t0.098\n",
      "3.200\t5.308\t2.108\n",
      "15.300\t15.385\t0.085\n",
      "10.100\t10.014\t0.086\n",
      "7.300\t10.384\t3.084\n",
      "12.900\t12.399\t0.501\n",
      "14.400\t14.214\t0.186\n",
      "13.300\t13.559\t0.259\n",
      "14.900\t14.947\t0.047\n",
      "18.000\t17.352\t0.648\n",
      "11.900\t11.068\t0.832\n",
      "11.900\t14.224\t2.324\n",
      "8.000\t10.824\t2.824\n",
      "12.200\t13.363\t1.163\n",
      "17.100\t17.186\t0.086\n",
      "15.000\t17.942\t2.942\n",
      "8.400\t7.395\t1.005\n",
      "14.500\t14.358\t0.142\n",
      "7.600\t7.608\t0.008\n",
      "11.700\t11.971\t0.271\n",
      "11.500\t13.744\t2.244\n",
      "27.000\t24.787\t2.213\n",
      "20.200\t19.979\t0.221\n",
      "11.700\t12.162\t0.462\n",
      "11.800\t16.011\t4.211\n",
      "12.600\t12.385\t0.215\n",
      "10.500\t10.587\t0.087\n",
      "12.200\t13.928\t1.728\n",
      "8.700\t6.555\t2.145\n",
      "26.200\t24.133\t2.067\n",
      "17.600\t18.539\t0.939\n",
      "22.600\t20.803\t1.797\n",
      "10.300\t9.691\t0.609\n",
      "17.300\t17.076\t0.224\n",
      "15.900\t18.644\t2.744\n",
      "6.700\t6.052\t0.648\n",
      "10.800\t12.489\t1.689\n",
      "9.900\t8.424\t1.476\n",
      "5.900\t4.466\t1.434\n",
      "19.600\t18.487\t1.113\n",
      "17.300\t16.495\t0.805\n",
      "7.600\t5.370\t2.230\n",
      "9.700\t8.165\t1.535\n",
      "12.800\t12.786\t0.014\n",
      "25.500\t23.767\t1.733\n"
     ]
    }
   ],
   "source": [
    "y = data['sales']\n",
    "\n",
    "a= reg.intercept_[0] + reg.coef_[0][0]*data['TV'] + reg.coef_[0][1]*data['radio'] + reg.coef_[0][2]*data['newspaper']\n",
    "\n",
    "print(\"Actual\",   \"Predicted\", \"Error\")\n",
    "for i in range(0, 199):\n",
    "    error= abs(y.values[i]- a[i])\n",
    "    print(f'{y.values[i]:.3f}\\t{a[i]:.3f}\\t{error:.3f}')"
   ]
  },
  {
   "cell_type": "markdown",
   "metadata": {},
   "source": [
    "# Exercise\n",
    "\n",
    "1) What is the error when the advrtiesments for TV, Radio and Newspaper are 286.0\t13.9\t3.7, respectively?\n",
    "\n",
    "2) Find the total error between Multiple Regression Model and data points? Compare the error results between linear regression and multivariate regression models.\n",
    "\n",
    "3) Can you add one more advertisment to the data? If yes, then add one more advertisement type as a fourth input variable and each value should be generated randomly between 20 and 300. Apply multivariate regression model again.\n",
    "\n",
    "4) Discuss the results."
   ]
  }
 ],
 "metadata": {
  "kernelspec": {
   "display_name": "Python 3.10.0 64-bit",
   "language": "python",
   "name": "python3"
  },
  "language_info": {
   "codemirror_mode": {
    "name": "ipython",
    "version": 3
   },
   "file_extension": ".py",
   "mimetype": "text/x-python",
   "name": "python",
   "nbconvert_exporter": "python",
   "pygments_lexer": "ipython3",
   "version": "3.10.0"
  },
  "vscode": {
   "interpreter": {
    "hash": "aee8b7b246df8f9039afb4144a1f6fd8d2ca17a180786b69acc140d282b71a49"
   }
  }
 },
 "nbformat": 4,
 "nbformat_minor": 2
}
